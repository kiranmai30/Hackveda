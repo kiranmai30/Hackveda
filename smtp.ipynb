{
  "nbformat": 4,
  "nbformat_minor": 0,
  "metadata": {
    "colab": {
      "provenance": []
    },
    "kernelspec": {
      "name": "python3",
      "display_name": "Python 3"
    },
    "language_info": {
      "name": "python"
    }
  },
  "cells": [
    {
      "cell_type": "code",
      "execution_count": null,
      "metadata": {
        "colab": {
          "base_uri": "https://localhost:8080/"
        },
        "id": "cdKUT9iFo-Nz",
        "outputId": "db1b5d24-dc26-4ca4-b604-2c454ddca719"
      },
      "outputs": [
        {
          "output_type": "stream",
          "name": "stdout",
          "text": [
            "Image path: /content/pythonimg.jpg\n",
            "Image file exists: True\n",
            "PDF path: /content/assignment-5.pdf\n",
            "PDF file exists: True\n"
          ]
        }
      ],
      "source": [
        "from email.mime.text import MIMEText\n",
        "from email.mime.image import MIMEImage\n",
        "from email.mime.application import MIMEApplication\n",
        "from email.mime.multipart import MIMEMultipart\n",
        "import smtplib\n",
        "import os\n",
        "\n",
        "# Initialize connection to our email server, we will use Gmail here\n",
        "smtp = smtplib.SMTP('smtp.gmail.com', 587)\n",
        "smtp.ehlo()\n",
        "smtp.starttls()\n",
        "\n",
        "# Login with your email and password\n",
        "smtp.login('mittapallikiranmai1@gmail.com', 'njru akyh otda oypr')\n",
        "\n",
        "# Send our email message 'msg' to our boss\n",
        "def message(subject=\"Python Notification\", text=\"\", img=None, attachment=None):\n",
        "    # Build message contents\n",
        "    msg = MIMEMultipart()\n",
        "\n",
        "    # Add Subject\n",
        "    msg['Subject'] = subject\n",
        "\n",
        "    # Add text contents\n",
        "    msg.attach(MIMEText(text))\n",
        "\n",
        "    # Check if we have anything given in the img parameter\n",
        "    if img is not None:\n",
        "        # Check whether we have the lists of images or not!\n",
        "        if type(img) is not list:\n",
        "            # If it isn't a list, make it one\n",
        "            img = [img]\n",
        "\n",
        "        # Now iterate through our list\n",
        "        for one_img in img:\n",
        "            # Read the image binary data\n",
        "            with open(one_img, 'rb') as f:\n",
        "                img_data = f.read()\n",
        "            # Attach the image data to MIMEMultipart using MIMEImage, we add the given filename using os.path.basename\n",
        "            msg.attach(MIMEImage(img_data, name=os.path.basename(one_img)))\n",
        "\n",
        "    # We do the same for attachments as we did for images\n",
        "    if attachment is not None:\n",
        "        # Check whether we have the lists of attachments or not!\n",
        "        if type(attachment) is not list:\n",
        "            # If it isn't a list, make it one\n",
        "            attachment = [attachment]\n",
        "\n",
        "        for one_attachment in attachment:\n",
        "            with open(one_attachment, 'rb') as f:\n",
        "                # Read in the attachment using MIMEApplication\n",
        "                file = MIMEApplication(f.read(), name=os.path.basename(one_attachment))\n",
        "            file['Content-Disposition'] = f'attachment; filename=\"{os.path.basename(one_attachment)}\"'\n",
        "\n",
        "            # At last, add the attachment to our message object\n",
        "            msg.attach(file)\n",
        "\n",
        "    return msg\n",
        "\n",
        "# Paths to the image and PDF files\n",
        "img_path = r\"/content/pythonimg.jpg\"\n",
        "pdf_path = r\"/content/assignment-5.pdf\"\n",
        "\n",
        "# Debug prints\n",
        "print(\"Image path:\", img_path)\n",
        "print(\"Image file exists:\", os.path.exists(img_path))\n",
        "print(\"PDF path:\", pdf_path)\n",
        "print(\"PDF file exists:\", os.path.exists(pdf_path))\n",
        "\n",
        "# If the files exist, proceed with sending the email\n",
        "if os.path.exists(img_path) and os.path.exists(pdf_path):\n",
        "    # Call the message function with the PDF as an attachment\n",
        "    msg = message(\"Good!\", \"Hi there!\", img=img_path, attachment=pdf_path)\n",
        "\n",
        "    # Make a list of emails, where you wanna send mail\n",
        "    to = [\"2103a51453@sru.edu.in\",\"vinaykonda01@gmail.com\"]\n",
        "\n",
        "    # Provide some data to the sendmail function\n",
        "    smtp.sendmail(from_addr=\"mittapallikiranmai1@gmail.com\", to_addrs=to, msg=msg.as_string())\n",
        "\n",
        "    # Finally, don't forget to close the connection\n",
        "    smtp.quit()\n",
        "else:\n",
        "    if not os.path.exists(img_path):\n",
        "        print(\"Image file not found. Please check the file path and try again.\")\n",
        "    if not os.path.exists(pdf_path):\n",
        "        print(\"PDF file not found. Please check the file path and try again.\")"
      ]
    }
  ]
}